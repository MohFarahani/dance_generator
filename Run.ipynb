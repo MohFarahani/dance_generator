{
 "cells": [
  {
   "cell_type": "markdown",
   "id": "d3614572",
   "metadata": {},
   "source": [
    "### Colab "
   ]
  },
  {
   "cell_type": "code",
   "execution_count": 1,
   "id": "a81cad3a",
   "metadata": {},
   "outputs": [
    {
     "data": {
      "text/plain": [
       "\"\\nfrom google.colab import drive\\ndrive.mount('/content/gdrive')\\n%cd gdrive/MyDrive/dance_generator/\\n!git pull\\n!pip install -r requirements.txt\\n\\n\\n\""
      ]
     },
     "execution_count": 1,
     "metadata": {},
     "output_type": "execute_result"
    }
   ],
   "source": [
    "# Colab\n",
    "'''\n",
    "from google.colab import drive\n",
    "drive.mount('/content/gdrive')\n",
    "%cd gdrive/MyDrive/dance_generator/\n",
    "!git pull\n",
    "!pip install -r requirements.txt\n",
    "\n",
    "\n",
    "'''"
   ]
  },
  {
   "cell_type": "markdown",
   "id": "f1cb17dd",
   "metadata": {},
   "source": [
    "### Import and Config"
   ]
  },
  {
   "cell_type": "code",
   "execution_count": 2,
   "id": "13985452",
   "metadata": {},
   "outputs": [],
   "source": [
    "import os\n",
    "from model_setup import Model_Setup\n",
    "from PoseDataGenerator import PoseDataGenerator\n",
    "from Plot3D import save_image,save_gif\n",
    "from Train import Train\n",
    "\n",
    "# Folders\n",
    "PATH_VIDEO = 'videos'\n",
    "RESULT_CSV = 'results'\n",
    "IMAGE_PATH ='images'\n",
    "GENERATE_IMAGE_PATH ='generate_images'\n",
    "\n",
    "INIT_CSV = 'initial'\n",
    "PATH_VIDEO_GEN = 'generator'\n",
    "# File\n",
    "MODEL_PATH = 'autoregression'\n",
    "\n",
    "# Run parts\n",
    "TRAIN = False\n",
    "CREATE_IMAGES = False\n",
    "CREATE_GIF = False\n",
    "\n",
    "# Model config\n",
    "config = Model_Setup()\n"
   ]
  },
  {
   "cell_type": "markdown",
   "id": "de102213",
   "metadata": {},
   "source": [
    "### Generate training data from Video Clip"
   ]
  },
  {
   "cell_type": "code",
   "execution_count": 3,
   "id": "14d01ec3",
   "metadata": {},
   "outputs": [],
   "source": [
    "pose_data = PoseDataGenerator(config)\n",
    "if os.path.isfile(RESULT_CSV) == False:\n",
    "    pose_data.generate_pose_multifile(PATH_VIDEO,RESULT_CSV)"
   ]
  },
  {
   "cell_type": "markdown",
   "id": "ec04682b",
   "metadata": {},
   "source": [
    "### Testing 3DPlot Pose Estimation"
   ]
  },
  {
   "cell_type": "code",
   "execution_count": 4,
   "id": "7c55c987",
   "metadata": {},
   "outputs": [],
   "source": [
    "if CREATE_IMAGES:\n",
    "    save_image(config,RESULT_CSV+'\\coordinates_1.csv',IMAGE_PATH)"
   ]
  },
  {
   "cell_type": "code",
   "execution_count": 5,
   "id": "c1b31444",
   "metadata": {
    "scrolled": true
   },
   "outputs": [
    {
     "data": {
      "text/plain": [
       "\"\\nfrom pygifsicle import optimize\\ngif_path = 'animated_from_images.gif'# create a new one\\noptimize(gif_path, 'animated_from_images_optimized.gif')# overwrite the original one\\noptimize(gif_path)\\n\""
      ]
     },
     "execution_count": 5,
     "metadata": {},
     "output_type": "execute_result"
    }
   ],
   "source": [
    "if CREATE_GIF: \n",
    "    save_gif(IMAGE_PATH)\n",
    "    \n",
    "'''\n",
    "from pygifsicle import optimize\n",
    "gif_path = 'animated_from_images.gif'# create a new one\n",
    "optimize(gif_path, 'animated_from_images_optimized.gif')# overwrite the original one\n",
    "optimize(gif_path)\n",
    "'''"
   ]
  },
  {
   "cell_type": "markdown",
   "id": "b82a115e",
   "metadata": {},
   "source": [
    "###  Train \n"
   ]
  },
  {
   "cell_type": "code",
   "execution_count": 6,
   "id": "9cdb699f",
   "metadata": {},
   "outputs": [],
   "source": [
    "config.MODEL = \"autoregression\"\n",
    "train_obj = Train(config)\n",
    "if TRAIN:\n",
    "    train_obj.fit(RESULT_CSV)\n",
    "    train_obj.plot_performance()"
   ]
  },
  {
   "cell_type": "markdown",
   "id": "e626a727",
   "metadata": {},
   "source": [
    "### Generator"
   ]
  },
  {
   "cell_type": "code",
   "execution_count": 7,
   "id": "e53b9e38",
   "metadata": {
    "scrolled": true
   },
   "outputs": [
    {
     "name": "stdout",
     "output_type": "stream",
     "text": [
      "Model: \"sequential\"\n",
      "_________________________________________________________________\n",
      "Layer (type)                 Output Shape              Param #   \n",
      "=================================================================\n",
      "bidirectional (Bidirectional (None, 72, 512)           729088    \n",
      "_________________________________________________________________\n",
      "dense (Dense)                (None, 72, 128)           65664     \n",
      "_________________________________________________________________\n",
      "dense_1 (Dense)              (None, 72, 99)            12771     \n",
      "=================================================================\n",
      "Total params: 807,523\n",
      "Trainable params: 807,523\n",
      "Non-trainable params: 0\n",
      "_________________________________________________________________\n",
      "(1, 72, 99)\n"
     ]
    },
    {
     "ename": "IndexError",
     "evalue": "index 1 is out of bounds for axis 0 with size 1",
     "output_type": "error",
     "traceback": [
      "\u001b[1;31m---------------------------------------------------------------------------\u001b[0m",
      "\u001b[1;31mIndexError\u001b[0m                                Traceback (most recent call last)",
      "\u001b[1;32m<ipython-input-7-32afaf677bdf>\u001b[0m in \u001b[0;36m<module>\u001b[1;34m\u001b[0m\n\u001b[0;32m      5\u001b[0m \u001b[1;33m\u001b[0m\u001b[0m\n\u001b[0;32m      6\u001b[0m \u001b[0mdf_init\u001b[0m \u001b[1;33m=\u001b[0m \u001b[0mtrain_obj\u001b[0m\u001b[1;33m.\u001b[0m\u001b[0mdataset_df\u001b[0m\u001b[1;33m(\u001b[0m\u001b[0mdf_init\u001b[0m\u001b[1;33m)\u001b[0m\u001b[1;33m\u001b[0m\u001b[1;33m\u001b[0m\u001b[0m\n\u001b[1;32m----> 7\u001b[1;33m \u001b[0mtrain_obj\u001b[0m\u001b[1;33m.\u001b[0m\u001b[0mgenerator\u001b[0m\u001b[1;33m(\u001b[0m\u001b[0mMODEL_PATH\u001b[0m\u001b[1;33m,\u001b[0m\u001b[0mdf_init\u001b[0m\u001b[1;33m,\u001b[0m\u001b[0mframes_future\u001b[0m\u001b[1;33m=\u001b[0m\u001b[1;36m200\u001b[0m\u001b[1;33m)\u001b[0m\u001b[1;33m\u001b[0m\u001b[1;33m\u001b[0m\u001b[0m\n\u001b[0m",
      "\u001b[1;32m~\\Desktop\\dance_generator\\Train.py\u001b[0m in \u001b[0;36mgenerator\u001b[1;34m(self, MODEL_PATH, df_init, frames_future)\u001b[0m\n\u001b[0;32m    180\u001b[0m             \u001b[0mdata_to_append\u001b[0m \u001b[1;33m=\u001b[0m \u001b[1;33m{\u001b[0m\u001b[1;33m}\u001b[0m\u001b[1;33m\u001b[0m\u001b[1;33m\u001b[0m\u001b[0m\n\u001b[0;32m    181\u001b[0m             \u001b[1;32mfor\u001b[0m \u001b[0mi\u001b[0m \u001b[1;32min\u001b[0m \u001b[0mrange\u001b[0m\u001b[1;33m(\u001b[0m\u001b[0mlen\u001b[0m\u001b[1;33m(\u001b[0m\u001b[0mdf_init\u001b[0m\u001b[1;33m.\u001b[0m\u001b[0mcolumns\u001b[0m\u001b[1;33m)\u001b[0m\u001b[1;33m)\u001b[0m\u001b[1;33m:\u001b[0m\u001b[1;33m\u001b[0m\u001b[1;33m\u001b[0m\u001b[0m\n\u001b[1;32m--> 182\u001b[1;33m                 \u001b[0mdata_to_append\u001b[0m\u001b[1;33m[\u001b[0m\u001b[0mdf_init\u001b[0m\u001b[1;33m.\u001b[0m\u001b[0mcolumns\u001b[0m\u001b[1;33m[\u001b[0m\u001b[0mi\u001b[0m\u001b[1;33m]\u001b[0m\u001b[1;33m]\u001b[0m \u001b[1;33m=\u001b[0m \u001b[0mprediction\u001b[0m\u001b[1;33m[\u001b[0m\u001b[0mi\u001b[0m\u001b[1;33m]\u001b[0m\u001b[1;33m\u001b[0m\u001b[1;33m\u001b[0m\u001b[0m\n\u001b[0m\u001b[0;32m    183\u001b[0m             \u001b[0mdf_init\u001b[0m \u001b[1;33m=\u001b[0m \u001b[0mdf_init\u001b[0m\u001b[1;33m.\u001b[0m\u001b[0mappend\u001b[0m\u001b[1;33m(\u001b[0m\u001b[0mdata_to_append\u001b[0m\u001b[1;33m,\u001b[0m \u001b[0mignore_index\u001b[0m\u001b[1;33m=\u001b[0m\u001b[1;32mTrue\u001b[0m\u001b[1;33m)\u001b[0m\u001b[1;33m\u001b[0m\u001b[1;33m\u001b[0m\u001b[0m\n\u001b[0;32m    184\u001b[0m         \u001b[0mdf_init\u001b[0m\u001b[1;33m.\u001b[0m\u001b[0mto_csv\u001b[0m\u001b[1;33m(\u001b[0m\u001b[1;34m\"generate.csv\"\u001b[0m\u001b[1;33m)\u001b[0m\u001b[1;33m\u001b[0m\u001b[1;33m\u001b[0m\u001b[0m\n",
      "\u001b[1;31mIndexError\u001b[0m: index 1 is out of bounds for axis 0 with size 1"
     ]
    }
   ],
   "source": [
    "import pandas as pd\n",
    "\n",
    "pose_data.generate_pose_multifile(PATH_VIDEO_GEN,INIT_CSV)\n",
    "df_init = pd.read_csv(INIT_CSV+'/'+'coordinates.csv')\n",
    "\n",
    "df_init = train_obj.dataset_df(df_init)\n",
    "train_obj.generator(MODEL_PATH,df_init,frames_future=200)"
   ]
  },
  {
   "cell_type": "markdown",
   "id": "bbca4f47",
   "metadata": {},
   "source": [
    "### Animation Generation"
   ]
  },
  {
   "cell_type": "code",
   "execution_count": null,
   "id": "b88ffb42",
   "metadata": {},
   "outputs": [],
   "source": [
    "save_image(config,'generator.csv',GENERATE_IMAGE_PATH)\n",
    "save_gif(GENERATE_IMAGE_PATH)"
   ]
  }
 ],
 "metadata": {
  "interpreter": {
   "hash": "356898f2730f2879a02e8ec0c5bf31e2ad459897e5d194645c374abfa222960e"
  },
  "kernelspec": {
   "display_name": "Python 3",
   "language": "python",
   "name": "python3"
  },
  "language_info": {
   "codemirror_mode": {
    "name": "ipython",
    "version": 3
   },
   "file_extension": ".py",
   "mimetype": "text/x-python",
   "name": "python",
   "nbconvert_exporter": "python",
   "pygments_lexer": "ipython3",
   "version": "3.7.6"
  }
 },
 "nbformat": 4,
 "nbformat_minor": 5
}
