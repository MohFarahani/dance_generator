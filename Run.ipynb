{
 "cells": [
  {
   "cell_type": "markdown",
   "id": "67a95f09",
   "metadata": {},
   "source": [
    "### Import and Config"
   ]
  },
  {
   "cell_type": "code",
   "execution_count": 1,
   "id": "f8eeaa3a",
   "metadata": {},
   "outputs": [],
   "source": [
    "import os\n",
    "\n",
    "from PoseDataGenerator import PoseDataGenerator\n",
    "from Plot3D import Landmark_list,plot_landmarks\n",
    "from Train import Train\n",
    "\n",
    "PATH_VIDEO = 'videos/1.mp4'\n",
    "RESULT_CSV = 'results/coordinates.csv'\n",
    "NUM_COORDS = 33\n"
   ]
  },
  {
   "cell_type": "markdown",
   "id": "e4586afe",
   "metadata": {},
   "source": [
    "### Generate training data from Video Clip"
   ]
  },
  {
   "cell_type": "code",
   "execution_count": 2,
   "id": "10aee047",
   "metadata": {},
   "outputs": [],
   "source": [
    "pose_data = PoseDataGenerator()\n",
    "if os.path.isfile(RESULT_CSV) == False:\n",
    "    pose_data.generate_pose(PATH_VIDEO,RESULT_CSV)"
   ]
  },
  {
   "cell_type": "markdown",
   "id": "fd9ccb97",
   "metadata": {},
   "source": [
    "### Testing 3DPlot Pose Estimation"
   ]
  },
  {
   "cell_type": "code",
   "execution_count": 3,
   "id": "53df543d",
   "metadata": {
    "scrolled": true
   },
   "outputs": [],
   "source": [
    "landmark_list = Landmark_list(list_size = NUM_COORDS)\n",
    "df = landmark_list.load_csv(RESULT_CSV)"
   ]
  },
  {
   "cell_type": "code",
   "execution_count": 4,
   "id": "b166c909",
   "metadata": {},
   "outputs": [
    {
     "data": {
      "text/plain": [
       "\"\\n# Plot every frame\\nfor i in range(len(df)):\\n    landmark_list = Landmark_list(list_size = 33)\\n    df_temp = df.iloc[i,:]\\n    x = df_temp[df.columns.str.startswith('x')].to_numpy().flatten()\\n    y = df_temp[df.columns.str.startswith('y')].to_numpy().flatten()\\n    z = df_temp[df.columns.str.startswith('z')].to_numpy().flatten()\\n    visibility = df_temp[df.columns.str.startswith('v')].to_numpy().flatten()\\n    landmark_list.load_xyz(x,y,z,visibility)\\n    plot_landmarks(landmark_list, pose_data.mp_pose.POSE_CONNECTIONS)\\n\""
      ]
     },
     "execution_count": 4,
     "metadata": {},
     "output_type": "execute_result"
    }
   ],
   "source": [
    "'''\n",
    "# Plot every frame\n",
    "for i in range(len(df)):\n",
    "    landmark_list = Landmark_list(list_size = 33)\n",
    "    df_temp = df.iloc[i,:]\n",
    "    x = df_temp[df.columns.str.startswith('x')].to_numpy().flatten()\n",
    "    y = df_temp[df.columns.str.startswith('y')].to_numpy().flatten()\n",
    "    z = df_temp[df.columns.str.startswith('z')].to_numpy().flatten()\n",
    "    visibility = df_temp[df.columns.str.startswith('v')].to_numpy().flatten()\n",
    "    landmark_list.load_xyz(x,y,z,visibility)\n",
    "    plot_landmarks(landmark_list, pose_data.mp_pose.POSE_CONNECTIONS)\n",
    "'''"
   ]
  },
  {
   "cell_type": "markdown",
   "id": "4ad56b27",
   "metadata": {},
   "source": [
    "###  Train \n"
   ]
  },
  {
   "cell_type": "code",
   "execution_count": null,
   "id": "a0db84b5",
   "metadata": {
    "scrolled": false
   },
   "outputs": [
    {
     "name": "stdout",
     "output_type": "stream",
     "text": [
      "Model: \"sequential\"\n",
      "_________________________________________________________________\n",
      "Layer (type)                 Output Shape              Param #   \n",
      "=================================================================\n",
      "bidirectional (Bidirectional (None, 30, 400)           480000    \n",
      "_________________________________________________________________\n",
      "dense (Dense)                (None, 30, 100)           40100     \n",
      "_________________________________________________________________\n",
      "bidirectional_1 (Bidirection (None, 300)               301200    \n",
      "_________________________________________________________________\n",
      "dense_1 (Dense)              (None, 20)                6020      \n",
      "_________________________________________________________________\n",
      "dense_2 (Dense)              (None, 20)                420       \n",
      "_________________________________________________________________\n",
      "dense_3 (Dense)              (None, 1)                 21        \n",
      "=================================================================\n",
      "Total params: 827,761\n",
      "Trainable params: 827,761\n",
      "Non-trainable params: 0\n",
      "_________________________________________________________________\n",
      "Epoch 1/150\n",
      "100/100 [==============================] - 45s 409ms/step - loss: 0.1063 - accuracy: 0.0000e+00 - val_loss: 0.1021 - val_accuracy: 0.0000e+00\n",
      "Epoch 2/150\n",
      "100/100 [==============================] - 69s 690ms/step - loss: 0.1024 - accuracy: 0.0000e+00 - val_loss: 0.1023 - val_accuracy: 0.0000e+00\n",
      "Epoch 3/150\n",
      "100/100 [==============================] - 70s 696ms/step - loss: 0.1026 - accuracy: 0.0000e+00 - val_loss: 0.1021 - val_accuracy: 0.0000e+00\n",
      "Epoch 4/150\n",
      " 39/100 [==========>...................] - ETA: 40s - loss: 0.1026 - accuracy: 0.0000e+00"
     ]
    }
   ],
   "source": [
    "train_obj = Train()\n",
    "train_obj.fit(df)"
   ]
  },
  {
   "cell_type": "code",
   "execution_count": null,
   "id": "23fddce0",
   "metadata": {},
   "outputs": [],
   "source": [
    "train_obj.plot_performance()"
   ]
  }
 ],
 "metadata": {
  "kernelspec": {
   "display_name": "Python 3",
   "language": "python",
   "name": "python3"
  },
  "language_info": {
   "codemirror_mode": {
    "name": "ipython",
    "version": 3
   },
   "file_extension": ".py",
   "mimetype": "text/x-python",
   "name": "python",
   "nbconvert_exporter": "python",
   "pygments_lexer": "ipython3",
   "version": "3.7.6"
  }
 },
 "nbformat": 4,
 "nbformat_minor": 5
}
