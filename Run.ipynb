{
 "cells": [
  {
   "cell_type": "markdown",
   "source": [
    "### Import and Config"
   ],
   "metadata": {}
  },
  {
   "cell_type": "code",
   "execution_count": 1,
   "source": [
    "import os\r\n",
    "\r\n",
    "from model_setup import Model_Setup\r\n",
    "from PoseDataGenerator import PoseDataGenerator\r\n",
    "from Plot3D import Landmark_list,plot_landmarks\r\n",
    "from Train import Train\r\n",
    "\r\n",
    "PATH_VIDEO = 'videos/1.mp4'\r\n",
    "RESULT_CSV = 'results/coordinates.csv'\r\n",
    "\r\n",
    "config = Model_Setup()\r\n"
   ],
   "outputs": [],
   "metadata": {}
  },
  {
   "cell_type": "markdown",
   "source": [
    "### Generate training data from Video Clip"
   ],
   "metadata": {}
  },
  {
   "cell_type": "code",
   "execution_count": 2,
   "source": [
    "pose_data = PoseDataGenerator(config)\r\n",
    "if os.path.isfile(RESULT_CSV) == False:\r\n",
    "    pose_data.generate_pose(PATH_VIDEO,RESULT_CSV)"
   ],
   "outputs": [],
   "metadata": {}
  },
  {
   "cell_type": "markdown",
   "source": [
    "### Testing 3DPlot Pose Estimation"
   ],
   "metadata": {}
  },
  {
   "cell_type": "code",
   "execution_count": 3,
   "source": [
    "landmark_list = Landmark_list(list_size = config.NUM_COORDS)\r\n",
    "df = landmark_list.load_csv(RESULT_CSV)"
   ],
   "outputs": [],
   "metadata": {
    "scrolled": true
   }
  },
  {
   "cell_type": "code",
   "execution_count": 4,
   "source": [
    "'''\r\n",
    "# Plot every frame\r\n",
    "for i in range(len(df)):\r\n",
    "    landmark_list = Landmark_list(list_size = 33)\r\n",
    "    df_temp = df.iloc[i,:]\r\n",
    "    x = df_temp[df.columns.str.startswith('x')].to_numpy().flatten()\r\n",
    "    y = df_temp[df.columns.str.startswith('y')].to_numpy().flatten()\r\n",
    "    z = df_temp[df.columns.str.startswith('z')].to_numpy().flatten()\r\n",
    "    visibility = df_temp[df.columns.str.startswith('v')].to_numpy().flatten()\r\n",
    "    landmark_list.load_xyz(x,y,z,visibility)\r\n",
    "    plot_landmarks(landmark_list, pose_data.mp_pose.POSE_CONNECTIONS)\r\n",
    "'''"
   ],
   "outputs": [
    {
     "output_type": "execute_result",
     "data": {
      "text/plain": [
       "\"\\n# Plot every frame\\nfor i in range(len(df)):\\n    landmark_list = Landmark_list(list_size = 33)\\n    df_temp = df.iloc[i,:]\\n    x = df_temp[df.columns.str.startswith('x')].to_numpy().flatten()\\n    y = df_temp[df.columns.str.startswith('y')].to_numpy().flatten()\\n    z = df_temp[df.columns.str.startswith('z')].to_numpy().flatten()\\n    visibility = df_temp[df.columns.str.startswith('v')].to_numpy().flatten()\\n    landmark_list.load_xyz(x,y,z,visibility)\\n    plot_landmarks(landmark_list, pose_data.mp_pose.POSE_CONNECTIONS)\\n\""
      ]
     },
     "metadata": {},
     "execution_count": 4
    }
   ],
   "metadata": {}
  },
  {
   "cell_type": "markdown",
   "source": [
    "###  Train \n"
   ],
   "metadata": {}
  },
  {
   "cell_type": "code",
   "execution_count": null,
   "source": [
    "train_obj = Train(config)\r\n",
    "train_obj.fit(df)"
   ],
   "outputs": [
    {
     "output_type": "stream",
     "name": "stdout",
     "text": [
      "Model: \"sequential\"\n",
      "_________________________________________________________________\n",
      "Layer (type)                 Output Shape              Param #   \n",
      "=================================================================\n",
      "bidirectional (Bidirectional (None, 30, 400)           480000    \n",
      "_________________________________________________________________\n",
      "dense (Dense)                (None, 30, 100)           40100     \n",
      "_________________________________________________________________\n",
      "bidirectional_1 (Bidirection (None, 300)               301200    \n",
      "_________________________________________________________________\n",
      "dense_1 (Dense)              (None, 20)                6020      \n",
      "_________________________________________________________________\n",
      "dense_2 (Dense)              (None, 20)                420       \n",
      "_________________________________________________________________\n",
      "dense_3 (Dense)              (None, 1)                 21        \n",
      "=================================================================\n",
      "Total params: 827,761\n",
      "Trainable params: 827,761\n",
      "Non-trainable params: 0\n",
      "_________________________________________________________________\n",
      "Epoch 1/150\n",
      "100/100 [==============================] - 45s 409ms/step - loss: 0.1063 - accuracy: 0.0000e+00 - val_loss: 0.1021 - val_accuracy: 0.0000e+00\n",
      "Epoch 2/150\n",
      "100/100 [==============================] - 69s 690ms/step - loss: 0.1024 - accuracy: 0.0000e+00 - val_loss: 0.1023 - val_accuracy: 0.0000e+00\n",
      "Epoch 3/150\n",
      "100/100 [==============================] - 70s 696ms/step - loss: 0.1026 - accuracy: 0.0000e+00 - val_loss: 0.1021 - val_accuracy: 0.0000e+00\n",
      "Epoch 4/150\n",
      " 39/100 [==========>...................] - ETA: 40s - loss: 0.1026 - accuracy: 0.0000e+00"
     ]
    }
   ],
   "metadata": {
    "scrolled": false
   }
  },
  {
   "cell_type": "code",
   "execution_count": null,
   "source": [
    "train_obj.plot_performance()"
   ],
   "outputs": [],
   "metadata": {}
  }
 ],
 "metadata": {
  "kernelspec": {
   "display_name": "Python 3",
   "language": "python",
   "name": "python3"
  },
  "language_info": {
   "codemirror_mode": {
    "name": "ipython",
    "version": 3
   },
   "file_extension": ".py",
   "mimetype": "text/x-python",
   "name": "python",
   "nbconvert_exporter": "python",
   "pygments_lexer": "ipython3",
   "version": "3.7.6"
  }
 },
 "nbformat": 4,
 "nbformat_minor": 5
}