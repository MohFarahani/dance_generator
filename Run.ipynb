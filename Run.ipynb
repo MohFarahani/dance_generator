{
 "cells": [
  {
   "cell_type": "markdown",
   "id": "077ca50a",
   "metadata": {},
   "source": [
    "### Import and Config"
   ]
  },
  {
   "cell_type": "code",
   "execution_count": null,
   "id": "c3dec81a",
   "metadata": {},
   "outputs": [],
   "source": [
    "import os\n",
    "\n",
    "from PoseDataGenerator import PoseDataGenerator\n",
    "from Plot3D import Landmark_list,plot_landmarks\n",
    "\n",
    "PATH_VIDEO = 'videos/1.mp4'\n",
    "RESULT_CSV = 'results/coordinates.csv'\n",
    "NUM_COORDS = 33\n"
   ]
  },
  {
   "cell_type": "markdown",
   "id": "d73eb1ed",
   "metadata": {},
   "source": [
    "### Generate training data from Video Clip"
   ]
  },
  {
   "cell_type": "code",
   "execution_count": null,
   "id": "bbda420f",
   "metadata": {},
   "outputs": [],
   "source": [
    "pose_data = PoseDataGenerator()\n",
    "if os.path.isfile(RESULT_CSV) == False:\n",
    "    pose_data.generate_pose(PATH_VIDEO,RESULT_CSV)"
   ]
  },
  {
   "cell_type": "markdown",
   "id": "c13727d3",
   "metadata": {},
   "source": [
    "### Testing 3DPlot Pose Estimation"
   ]
  },
  {
   "cell_type": "code",
   "execution_count": null,
   "id": "1a03439e",
   "metadata": {
    "scrolled": true
   },
   "outputs": [],
   "source": [
    "landmark_list = Landmark_list(list_size = NUM_COORDS)\n",
    "df = landmark_list.load_csv(RESULT_CSV)\n",
    "\n",
    "for i in range(len(df)):\n",
    "    landmark_list = Landmark_list(list_size = 33)\n",
    "    df_temp = df.iloc[i,:]\n",
    "    x = df_temp[df.columns.str.startswith('x')].to_numpy().flatten()\n",
    "    y = df_temp[df.columns.str.startswith('y')].to_numpy().flatten()\n",
    "    z = df_temp[df.columns.str.startswith('z')].to_numpy().flatten()\n",
    "    visibility = df_temp[df.columns.str.startswith('v')].to_numpy().flatten()\n",
    "    landmark_list.load_xyz(x,y,z,visibility)\n",
    "    plot_landmarks(landmark_list, pose_data.mp_pose.POSE_CONNECTIONS)\n"
   ]
  },
  {
   "cell_type": "markdown",
   "id": "d5f9023b",
   "metadata": {},
   "source": [
    "### Training "
   ]
  },
  {
   "cell_type": "code",
   "execution_count": null,
   "id": "c14ddb27",
   "metadata": {},
   "outputs": [],
   "source": []
  }
 ],
 "metadata": {
  "kernelspec": {
   "display_name": "Python 3",
   "language": "python",
   "name": "python3"
  },
  "language_info": {
   "codemirror_mode": {
    "name": "ipython",
    "version": 3
   },
   "file_extension": ".py",
   "mimetype": "text/x-python",
   "name": "python",
   "nbconvert_exporter": "python",
   "pygments_lexer": "ipython3",
   "version": "3.7.6"
  }
 },
 "nbformat": 4,
 "nbformat_minor": 5
}
