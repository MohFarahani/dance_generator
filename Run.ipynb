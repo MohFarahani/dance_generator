{
 "cells": [
  {
   "cell_type": "code",
   "execution_count": null,
   "source": [
    "# Colab\r\n",
    "'''\r\n",
    "from google.colab import drive\r\n",
    "drive.mount('/content/gdrive')\r\n",
    "%cd gdrive/MyDrive/dance_generator/\r\n",
    "!git pull\r\n",
    "!pip install -r requirements.txt\r\n",
    "\r\n",
    "\r\n",
    "'''"
   ],
   "outputs": [],
   "metadata": {}
  },
  {
   "cell_type": "markdown",
   "source": [
    "### Import and Config"
   ],
   "metadata": {}
  },
  {
   "cell_type": "code",
   "execution_count": 1,
   "source": [
    "import os\r\n",
    "\r\n",
    "from model_setup import Model_Setup\r\n",
    "from PoseDataGenerator import PoseDataGenerator\r\n",
    "from Plot3D import save_image,save_gif\r\n",
    "from Train import Train\r\n",
    "\r\n",
    "PATH_VIDEO = 'videos'\r\n",
    "RESULT_CSV = 'results'\r\n",
    "IMAGE_PATH ='images'\r\n",
    "\r\n",
    "config = Model_Setup()\r\n"
   ],
   "outputs": [],
   "metadata": {}
  },
  {
   "cell_type": "markdown",
   "source": [
    "### Generate training data from Video Clip"
   ],
   "metadata": {}
  },
  {
   "cell_type": "code",
   "execution_count": null,
   "source": [
    "pose_data = PoseDataGenerator(config)\r\n",
    "if os.path.isfile(RESULT_CSV) == False:\r\n",
    "    pose_data.generate_pose_multifile(PATH_VIDEO,RESULT_CSV)"
   ],
   "outputs": [],
   "metadata": {}
  },
  {
   "cell_type": "markdown",
   "source": [
    "### Testing 3DPlot Pose Estimation"
   ],
   "metadata": {}
  },
  {
   "cell_type": "code",
   "execution_count": null,
   "source": [
    "save_image(config,RESULT_CSV+'\\coordinates_1.csv',IMAGE_PATH)"
   ],
   "outputs": [
    {
     "output_type": "stream",
     "name": "stderr",
     "text": [
      "C:\\Users\\mhnaj\\Desktop\\dance_generator\\Plot3D.py:133: RuntimeWarning: More than 20 figures have been opened. Figures created through the pyplot interface (`matplotlib.pyplot.figure`) are retained until explicitly closed and may consume too much memory. (To control this warning, see the rcParam `figure.max_open_warning`).\n",
      "  fig = plt.figure(figsize=(10, 10))\n"
     ]
    }
   ],
   "metadata": {}
  },
  {
   "cell_type": "code",
   "execution_count": null,
   "source": [
    "save_gif(IMAGE_PATH)\r\n",
    "'''\r\n",
    "from pygifsicle import optimizegif_path = 'animated_from_video.gif'# create a new one\r\n",
    "optimize(gif_path, 'animated_from_video_optimized.gif')# overwrite the original one\r\n",
    "optimize(gif_path)\r\n",
    "'''"
   ],
   "outputs": [],
   "metadata": {}
  },
  {
   "cell_type": "markdown",
   "source": [
    "###  Train \r\n"
   ],
   "metadata": {}
  },
  {
   "cell_type": "code",
   "execution_count": null,
   "source": [
    "config.MODEL = \"autoencoder\"\r\n",
    "train_obj = Train(config)\r\n",
    "\r\n",
    "train_obj.fit(RESULT_CSV)"
   ],
   "outputs": [],
   "metadata": {}
  },
  {
   "cell_type": "code",
   "execution_count": null,
   "source": [
    "train_obj.plot_performance()"
   ],
   "outputs": [],
   "metadata": {}
  }
 ],
 "metadata": {
  "interpreter": {
   "hash": "356898f2730f2879a02e8ec0c5bf31e2ad459897e5d194645c374abfa222960e"
  },
  "kernelspec": {
   "name": "python3",
   "display_name": "Python 3.7.6 64-bit ('base': conda)"
  },
  "language_info": {
   "codemirror_mode": {
    "name": "ipython",
    "version": 3
   },
   "file_extension": ".py",
   "mimetype": "text/x-python",
   "name": "python",
   "nbconvert_exporter": "python",
   "pygments_lexer": "ipython3",
   "version": "3.7.6"
  }
 },
 "nbformat": 4,
 "nbformat_minor": 5
}