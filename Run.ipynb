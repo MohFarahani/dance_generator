{
 "cells": [
  {
   "cell_type": "markdown",
   "id": "d6eff5dc",
   "metadata": {},
   "source": [
    "### Import and Config"
   ]
  },
  {
   "cell_type": "code",
   "execution_count": 3,
   "id": "d9e5846a",
   "metadata": {},
   "outputs": [],
   "source": [
    "import os\n",
    "\n",
    "from model_setup import Model_Setup\n",
    "from PoseDataGenerator import PoseDataGenerator\n",
    "from Plot3D import Landmark_list,plot_landmarks\n",
    "from Train import Train\n",
    "\n",
    "PATH_VIDEO = 'videos'\n",
    "RESULT_CSV = 'results'\n",
    "\n",
    "config = Model_Setup()\n"
   ]
  },
  {
   "cell_type": "markdown",
   "id": "90c904d6",
   "metadata": {},
   "source": [
    "### Generate training data from Video Clip"
   ]
  },
  {
   "cell_type": "code",
   "execution_count": 4,
   "id": "46939768",
   "metadata": {},
   "outputs": [],
   "source": [
    "pose_data = PoseDataGenerator(config)\n",
    "if os.path.isfile(RESULT_CSV) == False:\n",
    "    pose_data.generate_pose_multifile(PATH_VIDEO,RESULT_CSV)"
   ]
  },
  {
   "cell_type": "markdown",
   "id": "cc85656e",
   "metadata": {},
   "source": [
    "### Testing 3DPlot Pose Estimation"
   ]
  },
  {
   "cell_type": "code",
   "execution_count": null,
   "id": "893d588c",
   "metadata": {
    "scrolled": true
   },
   "outputs": [],
   "source": [
    "landmark_list = Landmark_list(list_size = config.NUM_COORDS)\n",
    "df = landmark_list.load_csv(RESULT_CSV)"
   ]
  },
  {
   "cell_type": "code",
   "execution_count": null,
   "id": "084e6d92",
   "metadata": {},
   "outputs": [],
   "source": [
    "'''\n",
    "# Plot every frame\n",
    "for i in range(len(df)):\n",
    "    landmark_list = Landmark_list(list_size = 33)\n",
    "    df_temp = df.iloc[i,:]\n",
    "    x = df_temp[df.columns.str.startswith('x')].to_numpy().flatten()\n",
    "    y = df_temp[df.columns.str.startswith('y')].to_numpy().flatten()\n",
    "    z = df_temp[df.columns.str.startswith('z')].to_numpy().flatten()\n",
    "    visibility = df_temp[df.columns.str.startswith('v')].to_numpy().flatten()\n",
    "    landmark_list.load_xyz(x,y,z,visibility)\n",
    "    plot_landmarks(landmark_list, pose_data.mp_pose.POSE_CONNECTIONS)\n",
    "'''"
   ]
  },
  {
   "cell_type": "markdown",
   "id": "7e82193b",
   "metadata": {},
   "source": [
    "###  Train \n"
   ]
  },
  {
   "cell_type": "code",
   "execution_count": null,
   "id": "7a833194",
   "metadata": {
    "scrolled": false
   },
   "outputs": [],
   "source": [
    "train_obj = Train(config)\n",
    "train_obj.fit(df)"
   ]
  },
  {
   "cell_type": "code",
   "execution_count": null,
   "id": "c11a3009",
   "metadata": {},
   "outputs": [],
   "source": [
    "train_obj.plot_performance()"
   ]
  },
  {
   "cell_type": "code",
   "execution_count": null,
   "id": "02f920c1",
   "metadata": {},
   "outputs": [],
   "source": []
  }
 ],
 "metadata": {
  "interpreter": {
   "hash": "356898f2730f2879a02e8ec0c5bf31e2ad459897e5d194645c374abfa222960e"
  },
  "kernelspec": {
   "display_name": "Python 3",
   "language": "python",
   "name": "python3"
  },
  "language_info": {
   "codemirror_mode": {
    "name": "ipython",
    "version": 3
   },
   "file_extension": ".py",
   "mimetype": "text/x-python",
   "name": "python",
   "nbconvert_exporter": "python",
   "pygments_lexer": "ipython3",
   "version": "3.7.6"
  }
 },
 "nbformat": 4,
 "nbformat_minor": 5
}
