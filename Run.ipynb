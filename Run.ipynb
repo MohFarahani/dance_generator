{
 "cells": [
  {
   "cell_type": "markdown",
   "source": [
    "### Colab "
   ],
   "metadata": {}
  },
  {
   "cell_type": "code",
   "execution_count": null,
   "source": [
    "# Colab\r\n",
    "'''\r\n",
    "from google.colab import drive\r\n",
    "drive.mount('/content/gdrive')\r\n",
    "%cd gdrive/MyDrive/dance_generator/\r\n",
    "!git pull\r\n",
    "!pip install -r requirements.txt\r\n",
    "\r\n",
    "\r\n",
    "'''"
   ],
   "outputs": [],
   "metadata": {}
  },
  {
   "cell_type": "markdown",
   "source": [
    "### Import and Config"
   ],
   "metadata": {}
  },
  {
   "cell_type": "code",
   "execution_count": 1,
   "source": [
    "import os\r\n",
    "from model_setup import Model_Setup\r\n",
    "from PoseDataGenerator import PoseDataGenerator\r\n",
    "from Plot3D import save_image,save_gif,save_video\r\n",
    "from Train import Train\r\n",
    "\r\n",
    "# Folders\r\n",
    "# Video folders to use for trainig\r\n",
    "PATH_VIDEO = 'videos'\r\n",
    "# CSV pose results of video folders\r\n",
    "RESULT_CSV = 'results'\r\n",
    "# produce the image for each N frames of csv file\r\n",
    "IMAGE_PATH ='images'\r\n",
    "# produce the image for each N frames of generate.csv\r\n",
    "GENERATE_IMAGE_PATH ='generate_images'\r\n",
    "# initial CSV pose as an input for generation\r\n",
    "INIT_CSV = 'initial'\r\n",
    "# The video that use for generation\r\n",
    "PATH_VIDEO_GEN = 'generator'\r\n",
    "# File of moddel that train has been done\r\n",
    "MODEL_PATH = 'autoregression'\r\n",
    "\r\n",
    "# Run parts\r\n",
    "TRAIN = False\r\n",
    "CREATE_IMAGES = False\r\n",
    "CREATE_GIF = False\r\n",
    "CREATE_VIDEO = False\r\n",
    "\r\n",
    "# Model config\r\n",
    "config = Model_Setup()\r\n",
    "config.HIST_WINDOW = 4*24\r\n",
    "config.MODEL_NAME = MODEL_PATH\r\n"
   ],
   "outputs": [],
   "metadata": {}
  },
  {
   "cell_type": "markdown",
   "source": [
    "### Generate training data from Video Clip"
   ],
   "metadata": {}
  },
  {
   "cell_type": "code",
   "execution_count": 4,
   "source": [
    "pose_data = PoseDataGenerator(config)\r\n",
    "if os.path.isfile(RESULT_CSV) == False:\r\n",
    "    pose_data.generate_pose_multifile(PATH_VIDEO,RESULT_CSV)"
   ],
   "outputs": [],
   "metadata": {}
  },
  {
   "cell_type": "markdown",
   "source": [
    "### Testing 3DPlot Pose Estimation"
   ],
   "metadata": {}
  },
  {
   "cell_type": "code",
   "execution_count": null,
   "source": [
    "if CREATE_IMAGES:\r\n",
    "    save_image(config,RESULT_CSV+'\\coordinates_1.csv',IMAGE_PATH)"
   ],
   "outputs": [],
   "metadata": {}
  },
  {
   "cell_type": "code",
   "execution_count": null,
   "source": [
    "if CREATE_GIF: \n",
    "    save_gif(IMAGE_PATH)\n",
    "    \n",
    "'''\n",
    "from pygifsicle import optimize\n",
    "gif_path = 'animated_from_images.gif'# create a new one\n",
    "optimize(gif_path, 'animated_from_images_optimized.gif')# overwrite the original one\n",
    "optimize(gif_path)\n",
    "'''"
   ],
   "outputs": [],
   "metadata": {
    "scrolled": true
   }
  },
  {
   "cell_type": "code",
   "execution_count": null,
   "source": [
    "if CREATE_VIDEO: \n",
    "    save_video(IMAGE_PATH)"
   ],
   "outputs": [],
   "metadata": {}
  },
  {
   "cell_type": "markdown",
   "source": [
    "###  Train \n"
   ],
   "metadata": {}
  },
  {
   "cell_type": "code",
   "execution_count": 2,
   "source": [
    "train_obj = Train(config)\n",
    "if TRAIN:\n",
    "    train_obj.fit(RESULT_CSV)\n",
    "    train_obj.plot_performance()"
   ],
   "outputs": [],
   "metadata": {
    "scrolled": true
   }
  },
  {
   "cell_type": "markdown",
   "source": [
    "### Generator"
   ],
   "metadata": {}
  },
  {
   "cell_type": "code",
   "execution_count": 5,
   "source": [
    "import pandas as pd\n",
    "\n",
    "pose_data.generate_pose_multifile(PATH_VIDEO_GEN,INIT_CSV)\n",
    "df_init = pd.read_csv(INIT_CSV+'/'+'coordinates.csv')\n",
    "\n",
    "df_init = train_obj.dataset_df(df_init)\n",
    "train_obj.generator(MODEL_PATH,df_init,frames_future=1000)"
   ],
   "outputs": [
    {
     "output_type": "stream",
     "name": "stdout",
     "text": [
      "Model: \"sequential\"\n",
      "_________________________________________________________________\n",
      "Layer (type)                 Output Shape              Param #   \n",
      "=================================================================\n",
      "bidirectional (Bidirectional (None, 96, 256)           233472    \n",
      "_________________________________________________________________\n",
      "bidirectional_1 (Bidirection (None, 128)               164352    \n",
      "_________________________________________________________________\n",
      "dense (Dense)                (None, 128)               16512     \n",
      "_________________________________________________________________\n",
      "dense_1 (Dense)              (None, 99)                12771     \n",
      "=================================================================\n",
      "Total params: 427,107\n",
      "Trainable params: 427,107\n",
      "Non-trainable params: 0\n",
      "_________________________________________________________________\n"
     ]
    }
   ],
   "metadata": {
    "scrolled": true
   }
  },
  {
   "cell_type": "markdown",
   "source": [
    "### Animation Generation"
   ],
   "metadata": {}
  },
  {
   "cell_type": "code",
   "execution_count": 6,
   "source": [
    "save_image(config,'generate.csv',GENERATE_IMAGE_PATH)\n",
    "#save_gif(GENERATE_IMAGE_PATH)"
   ],
   "outputs": [
    {
     "output_type": "stream",
     "name": "stderr",
     "text": [
      "C:\\Users\\mhnaj\\Desktop\\dance_generator\\Plot3D.py:159: RuntimeWarning: More than 20 figures have been opened. Figures created through the pyplot interface (`matplotlib.pyplot.figure`) are retained until explicitly closed and may consume too much memory. (To control this warning, see the rcParam `figure.max_open_warning`).\n",
      "  fig = plt.figure(figsize=(10, 10))\n"
     ]
    }
   ],
   "metadata": {}
  },
  {
   "cell_type": "code",
   "execution_count": null,
   "source": [],
   "outputs": [],
   "metadata": {}
  }
 ],
 "metadata": {
  "interpreter": {
   "hash": "356898f2730f2879a02e8ec0c5bf31e2ad459897e5d194645c374abfa222960e"
  },
  "kernelspec": {
   "name": "python3",
   "display_name": "Python 3.7.6 64-bit ('base': conda)"
  },
  "language_info": {
   "codemirror_mode": {
    "name": "ipython",
    "version": 3
   },
   "file_extension": ".py",
   "mimetype": "text/x-python",
   "name": "python",
   "nbconvert_exporter": "python",
   "pygments_lexer": "ipython3",
   "version": "3.7.6"
  }
 },
 "nbformat": 4,
 "nbformat_minor": 5
}